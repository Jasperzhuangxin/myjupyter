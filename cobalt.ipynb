{
 "cells": [
  {
   "cell_type": "markdown",
   "id": "fc401fe3",
   "metadata": {
    "toc": true
   },
   "source": [
    "<h1>cobalt<span class=\"tocSkip\"></span></h1>\n",
    "<div class=\"toc\"><ul class=\"toc-item\"><li><span><a href=\"#钴的性质、分布和应用\" data-toc-modified-id=\"钴的性质、分布和应用-1\"><span class=\"toc-item-num\">1&nbsp;&nbsp;</span>钴的性质、分布和应用</a></span><ul class=\"toc-item\"><li><span><a href=\"#钴的性质\" data-toc-modified-id=\"钴的性质-1.1\"><span class=\"toc-item-num\">1.1&nbsp;&nbsp;</span>钴的性质</a></span></li><li><span><a href=\"#钴的分布\" data-toc-modified-id=\"钴的分布-1.2\"><span class=\"toc-item-num\">1.2&nbsp;&nbsp;</span>钴的分布</a></span></li><li><span><a href=\"#钴的应用\" data-toc-modified-id=\"钴的应用-1.3\"><span class=\"toc-item-num\">1.3&nbsp;&nbsp;</span>钴的应用</a></span></li></ul></li><li><span><a href=\"#钴矿物和矿床\" data-toc-modified-id=\"钴矿物和矿床-2\"><span class=\"toc-item-num\">2&nbsp;&nbsp;</span>钴矿物和矿床</a></span><ul class=\"toc-item\"><li><span><a href=\"#钴矿物\" data-toc-modified-id=\"钴矿物-2.1\"><span class=\"toc-item-num\">2.1&nbsp;&nbsp;</span>钴矿物</a></span></li><li><span><a href=\"#钴矿床\" data-toc-modified-id=\"钴矿床-2.2\"><span class=\"toc-item-num\">2.2&nbsp;&nbsp;</span>钴矿床</a></span></li></ul></li><li><span><a href=\"#全球钴矿资源储量和产量\" data-toc-modified-id=\"全球钴矿资源储量和产量-3\"><span class=\"toc-item-num\">3&nbsp;&nbsp;</span>全球钴矿资源储量和产量</a></span></li><li><span><a href=\"#全球主要钴矿公司\" data-toc-modified-id=\"全球主要钴矿公司-4\"><span class=\"toc-item-num\">4&nbsp;&nbsp;</span>全球主要钴矿公司</a></span></li><li><span><a href=\"#钴的产量、价格和供需变化趋势\" data-toc-modified-id=\"钴的产量、价格和供需变化趋势-5\"><span class=\"toc-item-num\">5&nbsp;&nbsp;</span>钴的产量、价格和供需变化趋势</a></span><ul class=\"toc-item\"><li><span><a href=\"#近30年钴的产量变化\" data-toc-modified-id=\"近30年钴的产量变化-5.1\"><span class=\"toc-item-num\">5.1&nbsp;&nbsp;</span>近30年钴的产量变化</a></span></li><li><span><a href=\"#近30年钴的价格变化\" data-toc-modified-id=\"近30年钴的价格变化-5.2\"><span class=\"toc-item-num\">5.2&nbsp;&nbsp;</span>近30年钴的价格变化</a></span></li><li><span><a href=\"#钴的供需变化\" data-toc-modified-id=\"钴的供需变化-5.3\"><span class=\"toc-item-num\">5.3&nbsp;&nbsp;</span>钴的供需变化</a></span></li></ul></li><li><span><a href=\"#结语\" data-toc-modified-id=\"结语-6\"><span class=\"toc-item-num\">6&nbsp;&nbsp;</span>结语</a></span></li></ul></div>"
   ]
  },
  {
   "cell_type": "markdown",
   "id": "60209820",
   "metadata": {},
   "source": [
    "# 钴的性质、分布和应用"
   ]
  },
  {
   "cell_type": "markdown",
   "id": "d66693fd",
   "metadata": {},
   "source": [
    "## 钴的性质"
   ]
  },
  {
   "cell_type": "markdown",
   "id": "cd5858de",
   "metadata": {},
   "source": [
    "- 钴的原子序数为27\n",
    "  - **熔点** 1493 ℃\n",
    "  - **沸点** 3100 ℃\n",
    "  - **密度** 8.9 g/cm3\n",
    "  - **莫氏硬度** 5.0~5.5\n",
    "- 耐高温、耐腐蚀、具铁磁性等性能，使钴在**航空航天**、**机械制造**、**电气电子**、**电池**和**化学**等工业领域具有广泛应用\n",
    "- 钴的化合物具有艳丽的颜色，作为颜料和染料应用于**陶瓷**、**玻璃**和**油漆**等行业"
   ]
  },
  {
   "cell_type": "markdown",
   "id": "667297b7",
   "metadata": {},
   "source": [
    "## 钴的分布"
   ]
  },
  {
   "cell_type": "markdown",
   "id": "5b3af6a6",
   "metadata": {},
   "source": [
    "- 钴矿物多数与铜、镍、金和铁等矿产共伴生\n",
    "  - 全球钴产量仅有2%左右产自独立钴矿\n",
    "- **静态保障年限**达到 50 年\n",
    "- 钴矿资源主要赋存于刚果、摩洛哥、赞比亚、澳大利亚、古巴、菲律宾、马达加斯加、加拿大、俄罗斯等国\n",
    "  - 目前只有**刚果（金）**、**澳大利亚**、**古巴**、**加拿大**和**俄罗斯**等少数几个国家的钴矿才能经济利用"
   ]
  },
  {
   "cell_type": "markdown",
   "id": "81f0941d",
   "metadata": {},
   "source": [
    "## 钴的应用"
   ]
  },
  {
   "cell_type": "markdown",
   "id": "ba24cb46",
   "metadata": {},
   "source": [
    "- 钴产品主要以**化学品**和**金属**的形式应用于**电池材料**、**催化剂**、**颜料**、**高温合金**、**硬质合金**和**磁性材料**等领域\n",
    "  - 电池行业是消耗钴最多的行业\n",
    "    - 制备锂离子电池的正极材料\n",
    "    - 提高锂离子电池的稳定性和安全性，改善电池的循环性能，从而提高电池的寿命\n",
    "- 钴与镍、铬、钼和钨等元素构成的**钴基超级合金**在高温下仍能保持高强度、耐磨性和耐腐蚀性\n",
    "  - 是用于**喷气飞机发动机**和**燃气轮机**的主要原料"
   ]
  },
  {
   "cell_type": "markdown",
   "id": "19ead99c",
   "metadata": {},
   "source": [
    "- 应用领域\n",
    "  - 电池，44%\n",
    "  - 超级合金，17%\n",
    "  - 硬质合金，9%\n",
    "  - 催化剂，8%\n",
    "  - 特殊化合物，6%\n",
    "  - 颜料，5%\n",
    "  - 高强度钢，5%\n",
    "  - 表面硬化材料，3%\n",
    "  - 磁性材料，3%"
   ]
  },
  {
   "cell_type": "markdown",
   "id": "6adf9ef2",
   "metadata": {},
   "source": [
    "# 钴矿物和矿床"
   ]
  },
  {
   "cell_type": "markdown",
   "id": "d9f87f8c",
   "metadata": {},
   "source": [
    "## 钴矿物"
   ]
  },
  {
   "cell_type": "markdown",
   "id": "381f61b2",
   "metadata": {},
   "source": [
    "- 具有经济意义的钴矿物主要有三大类\n",
    "  - 钴的**砷化物**\n",
    "  - 钴的**硫化物**\n",
    "  - 钴的**氧化物**\n",
    "- 工业上常见的钴矿物有\n",
    "  - 辉钴矿\n",
    "  - 硫钴矿\n",
    "  - 辉砷钴矿\n",
    "  - 方硫镍钴矿\n",
    "  - 钴镍黄铁矿\n",
    "  - 表生矿物中的\n",
    "    - 水钴矿\n",
    "    - 杂水钴矿"
   ]
  },
  {
   "cell_type": "markdown",
   "id": "82a3b822",
   "metadata": {},
   "source": [
    "## 钴矿床"
   ]
  },
  {
   "cell_type": "markdown",
   "id": "e231a1b5",
   "metadata": {},
   "source": [
    "- 商业开发的钴矿资源均来自陆地钴矿床\n",
    "- 陆地钴矿床主要有四种类型\n",
    "  - **沉积型层状铜钴矿床**\n",
    "  - **岩浆型硫化镍-铜-钴-铂族矿床**\n",
    "  - **热液型钴矿床**\n",
    "  - **风化型红土镍钴矿床**\n",
    "- 一些资源量较小的其他类型的钴矿床\n",
    "  - 黑色页岩型镍-铜-锌-钴矿床\n",
    "  - 密西西比河谷型铅-锌-钴-镍硫化物矿床\n",
    "- 海底钴矿床主要包括\n",
    "  - 大洋锰结核\n",
    "  - 大洋富钴结壳\n",
    "  - 海底火山铜-锌-钴-银-金硫化物矿床"
   ]
  },
  {
   "cell_type": "markdown",
   "id": "e071f0de",
   "metadata": {},
   "source": [
    "# 全球钴矿资源储量和产量"
   ]
  },
  {
   "cell_type": "markdown",
   "id": "78bcd569",
   "metadata": {},
   "source": [
    "- 2018年全球探明的\n",
    "  - **钴矿资源储量**为 687.5万t\n",
    "  - **钴矿产量**为 13.57万t\n",
    "  - **刚果金**的钴矿储量占到全球储量的49.45%，产量占到全球钴矿产量的66.32%，集中度非常高\n",
    "  - 储量排名第二和第三的国家分别为**澳大利亚**和**古巴**，占到全球储量的17.45%和7.27%\n",
    "- 2020年\n",
    "  - 刚果（金）**产量**占全球 69%\n",
    "  - 俄罗斯钴**产量**全球第二，占全球6%，为欧洲钴制品主要来源国。\n",
    "- 2022年\n",
    "  - **刚果（金）**、**印度尼西亚**和**澳大利亚**三国**储量**占全球70%、**资源量**占全球60%。我国占比不足2%。"
   ]
  },
  {
   "cell_type": "markdown",
   "id": "21a19d59",
   "metadata": {},
   "source": [
    "# 全球主要钴矿公司"
   ]
  },
  {
   "cell_type": "markdown",
   "id": "a1e3e81c",
   "metadata": {},
   "source": [
    "- 全球主要的钴矿公司有**瑞士嘉能可**公司、**洛钼集团**、**刚果Chemaf**公司、**金川集团**和**加拿大谢里特公司**等\n",
    "  - 嘉能可公司掌控着全球钴矿探明储量的25%，每年的钴矿产量占到全球产量的30%左右，对全球钴矿的供应有决定性的影响力\n",
    "  - 全球前十大钴矿公司2018年的钴矿产量占到全球钴矿产量的75.45%，生产集中度比较高\n",
    "  - 中国有四家公司进入钴矿产量前十的行列\n",
    "    - 中国洛阳钼业公司\n",
    "    - 中国金川集团\n",
    "    - 中国华友钴业\n",
    "    - 中国中冶集团"
   ]
  },
  {
   "cell_type": "markdown",
   "id": "a5f8dc46",
   "metadata": {},
   "source": [
    "# 钴的产量、价格和供需变化趋势"
   ]
  },
  {
   "cell_type": "markdown",
   "id": "cd177925",
   "metadata": {},
   "source": [
    "## 近30年钴的产量变化"
   ]
  },
  {
   "cell_type": "markdown",
   "id": "b5a7d910",
   "metadata": {},
   "source": [
    "- 近三十年来，全球钴矿产量在波动中不断增长\n",
    "  - 钴矿产量从1988年的4.4万t增长到2018年的13.57万t，年均增长率达到3.8%\n",
    "  - 中国经济的快速增长带动了全球经济的增长\n",
    "  - 2000—2010年中国对铜、镍和钴等矿产的需求不断增长，刺激了全球钴矿产量的快速增长\n",
    "  - 2010年以后中国经济增长速度放缓，铜和镍价格连续5年持续低迷，钴矿供应过剩\n",
    "  - 2017年电动汽车快速发展导致的钴需求增长刺激了钴矿生产，全球钴矿产量恢复到12万t\n",
    "  - 2018年钴矿产量增长到13.56万t"
   ]
  },
  {
   "cell_type": "markdown",
   "id": "a3b516d1",
   "metadata": {},
   "source": [
    "## 近30年钴的价格变化"
   ]
  },
  {
   "cell_type": "markdown",
   "id": "9e29940a",
   "metadata": {},
   "source": [
    "- 全球钴市场的价格体系，主要依靠**英国金属导报的MB报价**\n",
    "  - 钴的行业的交易作价都以MB每周两次的报价作为成交依据\n",
    "  - MB的报价是依据**国际电解钴现货**的供需情况、投资囤货和交易情况而确定的\n",
    "  - MB报价会影响**矿山与冶炼厂“长单”的签订价格**，所以MB报价在很大程度上会影响钴行业所有产品的价格\n",
    "- 钴的生产受制于共伴生钴的铜和镍矿的生产\n",
    "- 刚果金对全球钴矿资源的供给具有决定性的影响力\n",
    "  - 自然灾害、地缘政治、社会稳定和投机资本都会造成钴价大的波动"
   ]
  },
  {
   "cell_type": "markdown",
   "id": "c98dbdf4",
   "metadata": {},
   "source": [
    "- 全球钴价变化趋势\n",
    "  - 刚果钴矿产量急速下降，造成全球钴矿供应短缺，钴价格飙升\n",
    "  - 美国减少了钴资源的收储，钴价格有些波动\n",
    "  - 美国政府开始抛售其战略储备的钴资源，钴价格开始回落\n",
    "  - 中国经济高速发展（锂离子电池开始广泛应用于3C产品），带动了全球钴消费量的高速增长\n",
    "  - 刚果政府禁止出口未经加工的钴矿石，并在一段时间内禁止钴精矿出口，钴价格暴涨\n",
    "  - 2008年金融危机冲击之下，钴需求陷入停滞\n",
    "  - 2011年以后，中国经济增长速度放缓，全球经济疲软，3C产品终端消费受到抑制，铜、镍价格连续5年持续低迷，钴供应过剩，价格低迷\n",
    "  - 从2016年开始，中国的电动汽车发展和美国的特斯拉等公司的电动汽车发展带动了全球电动汽车的快速发展\n",
    "  - 电动汽车用动力电池对钴用量的强劲需求和未来预期，极大地刺激了钴价格的上涨\n",
    "  - 2018年4月开始，由于**供应和囤货过剩**，顾虑中国的**新能源汽车退坡政策**等因素，钴价开始大幅下跌"
   ]
  },
  {
   "cell_type": "markdown",
   "id": "2df2c9c4",
   "metadata": {},
   "source": [
    "## 钴的供需变化"
   ]
  },
  {
   "cell_type": "markdown",
   "id": "210ab396",
   "metadata": {},
   "source": [
    "- 机构一致认为，**电动汽车动力电池的需求**在未来几十年将成为**决定钴市场需求**的决定因素\n",
    "- 以嘉能可、Chemaf和欧亚资源为代表的一批钴矿生产公司启动了新的钴矿开发项目或扩产项目，从长远来看，这些产能不足以满足未来电动汽车长期发展的需求\n",
    "- 2017年以来，中国钴消费量占全球消费总量的50%左右\n",
    "- 我国钴资源短缺，对外依存度整体呈上升趋势，近5年达到90%以上\n",
    "- 全球商品交易所正加快脚步上市锂、钴期货，以应对新能源汽车快速发展引起的原材料价格剧烈波动"
   ]
  },
  {
   "cell_type": "markdown",
   "id": "f47ba5a9",
   "metadata": {},
   "source": [
    "# 结语"
   ]
  },
  {
   "cell_type": "markdown",
   "id": "5ef6dd8c",
   "metadata": {},
   "source": [
    "- 未来几年全球钴矿产量将快速增长\n",
    "  - 短期内可以满足电动汽车动力电池的需求，甚至出现过剩\n",
    "  - 长期来看，因为储备钴矿项目不足，钴矿面临长期短缺的可能"
   ]
  },
  {
   "cell_type": "markdown",
   "id": "6818995d",
   "metadata": {},
   "source": [
    "- 钴矿市场的风险主要体现在以下方面\n",
    "  - (1)98%的钴是作为共伴生矿产的副产品产出，生产受制于主矿产生产成本和市场价格；\n",
    "  - (2)生产主要由少数国家和地区控制，缺乏替代方案；\n",
    "  - (3)从原材料到成品需要经过多个国家的物流运输和加工；\n",
    "  - (4)原料和产品生产地区及物流沿途地区存在自然灾害和社会政治稳定方面的风险；\n",
    "  - (5)勘探投入少，新发现的钴矿较少；\n",
    "  - (6)市场容量小，政策对市场需求的影响很大；\n",
    "  - (7)减低钴用量的电池技术及电池中钴的回收技术进步可能降低钴的供应压力，并对钴市场产生重大影响。"
   ]
  },
  {
   "cell_type": "markdown",
   "id": "19add3d0",
   "metadata": {},
   "source": [
    "- 应对可能出现的钴资源短缺的情况\n",
    "  - (1)加强全球钴矿资源的勘探工作，探索海洋钴矿资源的开发利用途径；\n",
    "  - (2)加强钴回收利用技术相关研究，提高包括钴矿、钴二次资源、特别是废旧锂电池中的钴资源的回收利用率；\n",
    "  - (3)积极寻找含钴硬质合金及锂电池正极材料的替代产品，减少产品中钴的用量，缓解钴的供需矛盾。"
   ]
  }
 ],
 "metadata": {
  "kernelspec": {
   "display_name": "Python 3",
   "language": "python",
   "name": "python3"
  },
  "language_info": {
   "codemirror_mode": {
    "name": "ipython",
    "version": 3
   },
   "file_extension": ".py",
   "mimetype": "text/x-python",
   "name": "python",
   "nbconvert_exporter": "python",
   "pygments_lexer": "ipython3",
   "version": "3.8.8"
  },
  "toc": {
   "base_numbering": 1,
   "nav_menu": {},
   "number_sections": true,
   "sideBar": true,
   "skip_h1_title": false,
   "title_cell": "cobalt",
   "title_sidebar": "cobalt",
   "toc_cell": true,
   "toc_position": {},
   "toc_section_display": true,
   "toc_window_display": true
  }
 },
 "nbformat": 4,
 "nbformat_minor": 5
}
