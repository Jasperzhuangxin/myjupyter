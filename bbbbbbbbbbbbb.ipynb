{
 "cells": [
  {
   "cell_type": "markdown",
   "id": "ee87f9f2",
   "metadata": {},
   "source": [
    "# aaa"
   ]
  },
  {
   "cell_type": "markdown",
   "id": "fff30bcf",
   "metadata": {},
   "source": [
    "## bbb"
   ]
  },
  {
   "cell_type": "markdown",
   "id": "5b76ab15",
   "metadata": {},
   "source": [
    "发发发发"
   ]
  },
  {
   "cell_type": "markdown",
   "id": "477ff1f2",
   "metadata": {},
   "source": [
    "### ccc"
   ]
  },
  {
   "cell_type": "markdown",
   "id": "bb7f0f07",
   "metadata": {},
   "source": [
    "#### dd哥哥哥哥哥哥哥哥哥哥哥哥哥哥哥哥哥哥哥哥哥哥哥哥哥哥哥哥哥哥哥哥哥哥dd"
   ]
  },
  {
   "cell_type": "code",
   "execution_count": null,
   "id": "e47bb0ec",
   "metadata": {},
   "outputs": [],
   "source": []
  }
 ],
 "metadata": {
  "kernelspec": {
   "display_name": "Python 3",
   "language": "python",
   "name": "python3"
  },
  "language_info": {
   "codemirror_mode": {
    "name": "ipython",
    "version": 3
   },
   "file_extension": ".py",
   "mimetype": "text/x-python",
   "name": "python",
   "nbconvert_exporter": "python",
   "pygments_lexer": "ipython3",
   "version": "3.8.8"
  },
  "toc": {
   "base_numbering": 1,
   "nav_menu": {},
   "number_sections": true,
   "sideBar": true,
   "skip_h1_title": false,
   "title_cell": "Table of Contents",
   "title_sidebar": "Contents",
   "toc_cell": false,
   "toc_position": {},
   "toc_section_display": true,
   "toc_window_display": false
  }
 },
 "nbformat": 4,
 "nbformat_minor": 5
}
